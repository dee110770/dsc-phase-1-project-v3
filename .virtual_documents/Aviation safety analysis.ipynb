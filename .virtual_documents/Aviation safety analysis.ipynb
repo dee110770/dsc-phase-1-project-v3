





























# Import libraries
import pandas as pd
import numpy as np



aviation_data = pd.read_csv('AviationData.csv', encoding = 'ISO-8859-1', low_memory = False)
states_data = pd.read_csv('USState_Codes.csv')


aviation_data


#Contents of the states_data dataset
states_data


# Summary of data
aviation_data.info()


#summary of data
states_data.info()


# statistical summary
aviation_data.describe()


# check for null values
aviation_data.isna().sum()


#check for null values
states_data.isna().sum()





# checking for duplicates
aviation_data.duplicated().sum()


states_data.duplicated().sum()











# Total columns in the aviation dataset
aviation_data.columns


#Unique values in the aircraft category
aviation_data['Aircraft.Category'].unique()


# Step 1: Define necessary columns
necessary_columns = [
    'Location', 'Country', 'Injury.Severity',
    'Aircraft.damage', 'Make', 'Model', 'Amateur.Built',
    'Engine.Type', 'Purpose.of.flight', 'Total.Fatal.Injuries',
    'Total.Serious.Injuries', 'Total.Minor.Injuries', 'Total.Uninjured',
    'Weather.Condition', 'Broad.phase.of.flight', 'Aircraft.Category','Event.Date', 'Event.Id'
]

# Filter dataset to keep only the necessary columns
aviation_cleaned = aviation_data[necessary_columns]

# Step 2: Handle missing values

# Fill missing categorical values with 'Unknown'
categorical_cols = [
    'Location', 'Country', 'Injury.Severity', 'Aircraft.damage', 
    'Make', 'Model', 'Amateur.Built', 'Engine.Type', 
    'Purpose.of.flight', 'Weather.Condition', 'Broad.phase.of.flight'
]
aviation_cleaned.loc[:, categorical_cols] = aviation_cleaned[categorical_cols].fillna('Unknown')

# Fill missing numerical columns with the median
numerical_cols = ['Total.Fatal.Injuries', 'Total.Serious.Injuries', 
                  'Total.Minor.Injuries', 'Total.Uninjured']

aviation_cleaned.loc[:, numerical_cols] = aviation_cleaned[numerical_cols].apply(lambda x: x.fillna(x.median()))

# Step 3: Drop rows with critical missing data
# For analysis, we consider 'Model' and 'Make' critical.
aviation_cleaned = aviation_cleaned.dropna(subset=['Model', 'Make'])

# Fill missing values in 'Aircraft.Category' with the mode (most frequent value)
most_frequent_category = aviation_cleaned['Aircraft.Category'].mode()[0]  # get the most frequent value (mode)
aviation_cleaned['Aircraft.Category'] = aviation_cleaned['Aircraft.Category'].fillna(most_frequent_category)




# Convert 'extract.Date' to datetime format and extract the year 
aviation_cleaned['Year'] = pd.to_datetime(aviation_cleaned['Event.Date']).dt.year


aviation_cleaned.head()





# checking missing values
aviation_cleaned.isna().sum()








# split the location column to get the state abbreviations
aviation_cleaned['Abbreviation'] = aviation_cleaned['Location'].apply(lambda x: x.split(',')[-1]) 


#
aviation_cleaned['Abbreviation'].unique()


states_data['Abbreviation'].unique()


#strip leading and trailing spaces
aviation_cleaned['Abbreviation'] = aviation_cleaned['Abbreviation'].str.strip()
states_data['Abrreviation'] = states_data['Abbreviation'].str.strip()


#filter to keep the relevant entries
aviation_cleaned = aviation_cleaned[aviation_cleaned['Abbreviation'].isin(states_data['Abbreviation'])]       


#merge on cleaned data
aviation_merged = aviation_cleaned.merge(states_data, on = 'Abbreviation', how = 'left')


#check the dataframe
aviation_merged


aviation_merged['Weather.Condition'].unique()


aviation_merged['Make']


aviation_merged = aviation_merged.replace('Unk', 'UNK')


aviation_merged['Weather.Condition'].unique()


#Checking for missing NaN data
aviation_merged.isna().sum()


# drop one abbreviation column
aviation_merged = aviation_merged.drop(columns = ['Abbreviation'])


#check the dataframe
aviation_merged


aviation_merged['Aircraft.Category'].unique()


aviation_merged.columns


# Save cleaned dataset as csv data
aviation_merged.to_csv('./data/aviation_cleaned.csv')



# checking for missing values
aviation_merged.isna().sum()








import seaborn as sns
import matplotlib 
import matplotlib.pyplot as plt
%matplotlib inline





model_injuries = aviation_merged.groupby('Aircraft.Category')[['Total.Fatal.Injuries', 'Total.Serious.Injuries', 'Total.Minor.Injuries']].sum()

# Plot bar chart for total injuries by model
model_injuries['Total_Injuries'] = model_injuries.sum(axis=1)
model_injuries = model_injuries.sort_values('Total_Injuries', ascending=True).head(15)

plt.figure(figsize=(10, 8))
model_injuries['Total_Injuries'].plot(kind='bar', color='lightcoral')
plt.title('Aircraft Categories by Total Injuries')
plt.ylabel('Total Injuries')
plt.xlabel('Aircraft Model')
plt.xticks(rotation=45)
plt.show()









# Group the data by Aircraft Category and Aircraft Damage
damage_distribution = aviation_merged.groupby(['Aircraft.Category', 'Aircraft.damage']).size().unstack(fill_value=0)

# Plot a stacked bar chart to show the distribution of aircraft damage
damage_distribution.plot(
    kind='bar', 
    stacked=True, 
    figsize=(12, 8), 
    cmap='coolwarm', 
    edgecolor='black'
)

# Customize the chart
plt.title('Aircraft Damage Distribution by Aircraft Category', fontsize=16)
plt.xlabel('Aircraft Category', fontsize=16)
plt.ylabel('Number of Incidents', fontsize=16)
plt.xticks(rotation=45, fontsize=14)
plt.legend(title='Damage Severity', loc='upper right', fontsize=10)
plt.tight_layout()

# Show the plot
plt.show()









# Group by Aircraft Category and Weather Condition to see how they relate to incidents
weather_by_category = aviation_merged.groupby(['Aircraft.Category', 'Weather.Condition']).size().unstack(fill_value=0)

# Plot a stacked bar chart for weather conditions by aircraft category
weather_by_category.plot(kind='bar', stacked=True, figsize=(12, 6), cmap='coolwarm')
plt.title('Weather Conditions by Aircraft Category')
plt.ylabel('Number of Incidents')
plt.xlabel('Aircraft Category')
plt.xticks(rotation=45)
plt.legend(title='Weather Condition')
plt.show()









# Calculate total non-fatal injuries for each model
aviation_merged['Total.NonFatal.Injuries'] = aviation_merged['Total.Serious.Injuries'] + aviation_merged['Total.Minor.Injuries']

# Group by model and sum the non-fatal injuries
total_non_fatal_injuries_by_model = aviation_merged.groupby('Aircraft.Category')['Total.NonFatal.Injuries'].sum().reset_index()

# Bar plot for total non-fatal injuries by model
plt.figure(figsize=(14, 7))
sns.barplot(data=total_non_fatal_injuries_by_model, x='Aircraft.Category', y='Total.NonFatal.Injuries')
plt.title('Total Non-Fatal Injuries by Aircraft Model')
plt.xlabel('Aircraft Model')
plt.ylabel('Total Non-Fatal Injuries')
plt.xticks(rotation=45)
plt.show()









# Count incidents per year
incidents_per_year = aviation_merged.groupby(['Year', 'Aircraft.Category']).size().unstack(fill_value=0)

#Plot the data 
plt.figure(figsize=(10, 6)) 

#plt.plot(incidents_per_year.index, incidents_per_year.values, marker='o') 
for category in incidents_per_year.columns: 
    plt.plot(incidents_per_year.index, incidents_per_year[category], marker='o', label = category)

plt.title('Incidents Over the Years') 
plt.xlabel('Year')
plt.ylabel('Number of Incidents') 
plt.legend( fontsize = 12)
plt.grid(True) 

plt.show()








# Group the data by Aircraft Category and sum Minor and Serious Injuries
category_injuries = aviation_merged.groupby('Aircraft.Category')[['Total.Minor.Injuries', 'Total.Serious.Injuries', 'Total.Fatal.Injuries']].sum()

# Plotting the bar chart for Minor and Serious Injuries by Aircraft Category
category_injuries.plot(kind='bar', figsize=(12, 6), color=['lightblue', 'orange', 'red'])

# Customize the plot
plt.title('Comparison of Minor, Fatal and Serious Injuries by Aircraft Category')
plt.xlabel('Aircraft Category')
plt.ylabel('Total Injuries')
plt.xticks(rotation=45)
plt.legend(title='Injury Severity')
plt.grid(True, axis='y')

# Show the plot
plt.tight_layout()
plt.show()


































